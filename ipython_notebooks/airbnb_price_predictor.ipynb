{
 "cells": [
  {
   "cell_type": "markdown",
   "metadata": {},
   "source": [
    "# Data-X: Airbnb Price Predictor\n",
    "Predicts the current price of an Airbnb in San Francisco based on other features\n",
    "___"
   ]
  },
  {
   "cell_type": "markdown",
   "metadata": {},
   "source": [
    "### Dependencies\n",
    "None"
   ]
  },
  {
   "cell_type": "markdown",
   "metadata": {},
   "source": [
    "### Imports"
   ]
  },
  {
   "cell_type": "code",
   "execution_count": 1,
   "metadata": {},
   "outputs": [
    {
     "name": "stderr",
     "output_type": "stream",
     "text": [
      "/Users/erikyang/anaconda/lib/python3.6/site-packages/sklearn/ensemble/weight_boosting.py:29: DeprecationWarning: numpy.core.umath_tests is an internal NumPy module and should not be imported. It will be removed in a future NumPy release.\n",
      "  from numpy.core.umath_tests import inner1d\n"
     ]
    }
   ],
   "source": [
    "# Import Standard ML packages\n",
    "import numpy as np\n",
    "import pandas as pd\n",
    "\n",
    "# Import and Configure Plotting Libraries\n",
    "import matplotlib.pyplot as plt\n",
    "import seaborn as sns\n",
    "\n",
    "sns.set(style=\"whitegrid\", palette=\"muted\")\n",
    "\n",
    "plt.rcParams['figure.figsize'] = (12, 9)\n",
    "plt.rcParams['font.size'] = 14\n",
    "\n",
    "%matplotlib inline\n",
    "\n",
    "# Import Models\n",
    "from sklearn import linear_model\n",
    "from sklearn.linear_model import LinearRegression\n",
    "from sklearn.linear_model import LogisticRegression\n",
    "from sklearn.linear_model import Ridge\n",
    "from sklearn.linear_model import Lasso\n",
    "\n",
    "from sklearn import ensemble\n",
    "from sklearn.ensemble import RandomForestRegressor\n",
    "from sklearn.ensemble import GradientBoostingRegressor\n",
    "\n",
    "# Import Helper Modules\n",
    "from sklearn.externals import joblib\n",
    "from sklearn.model_selection import train_test_split\n",
    "import sklearn.metrics as metrics\n",
    "from sklearn.metrics import make_scorer\n",
    "from sklearn.model_selection import GridSearchCV\n",
    "from sklearn.preprocessing import StandardScaler"
   ]
  },
  {
   "cell_type": "markdown",
   "metadata": {},
   "source": [
    "### Import Datasets"
   ]
  },
  {
   "cell_type": "code",
   "execution_count": 2,
   "metadata": {
    "collapsed": true
   },
   "outputs": [],
   "source": [
    "listings_df = pd.read_csv(\"../raw_datasets/sf_airbnb_nov_18.csv\")"
   ]
  },
  {
   "cell_type": "markdown",
   "metadata": {},
   "source": [
    "### Data Cleaning/Transformation"
   ]
  },
  {
   "cell_type": "code",
   "execution_count": 3,
   "metadata": {
    "collapsed": true
   },
   "outputs": [],
   "source": [
    "def select_columns(df, *columns):\n",
    "    return df.loc[:, columns]\n",
    "\n",
    "def dollar_to_float(df, *columns):\n",
    "    for c in columns:\n",
    "        df[c] = df[c].str.replace(r'[$,]', '').astype(\"float64\")\n",
    "    return df\n",
    "\n",
    "def one_hot_encoding(df, *columns):\n",
    "    for c in columns:\n",
    "        hot = pd.get_dummies(df[c], prefix=c)\n",
    "        df = pd.concat([df, hot], axis=1)\n",
    "        df.drop(c, axis=1, inplace=True)\n",
    "    return df\n",
    "\n",
    "def fill_na_with_median(df, *columns):\n",
    "    for c in columns:\n",
    "        df.loc[df[c].isnull(),c] = df.loc[df[c].notnull(),c].median()\n",
    "    return df\n",
    "\n",
    "def clean_df(df):\n",
    "    df = df.copy()\n",
    "    return (\n",
    "        df.set_index(\"id\").pipe(\n",
    "            select_columns,\n",
    "            \"price\",\n",
    "            \"longitude\",\n",
    "            \"latitude\",\n",
    "            \"accommodates\",\n",
    "            \"bedrooms\",\n",
    "            \"bathrooms\",\n",
    "            \"beds\",\n",
    "            \"room_type\",\n",
    "            \"neighbourhood_cleansed\",\n",
    "            \"zipcode\"\n",
    "        )\n",
    "        .pipe(\n",
    "            fill_na_with_median,\n",
    "            \"bathrooms\",\n",
    "            \"bedrooms\",\n",
    "            \"beds\"\n",
    "        )\n",
    "        .pipe(\n",
    "            dollar_to_float,\n",
    "            \"price\"\n",
    "        )\n",
    "        .pipe(\n",
    "            one_hot_encoding,\n",
    "            \"room_type\",\n",
    "            \"neighbourhood_cleansed\",\n",
    "            \"zipcode\"\n",
    "        )\n",
    "    )"
   ]
  },
  {
   "cell_type": "code",
   "execution_count": 4,
   "metadata": {
    "scrolled": false
   },
   "outputs": [
    {
     "data": {
      "text/html": [
       "<div>\n",
       "<style>\n",
       "    .dataframe thead tr:only-child th {\n",
       "        text-align: right;\n",
       "    }\n",
       "\n",
       "    .dataframe thead th {\n",
       "        text-align: left;\n",
       "    }\n",
       "\n",
       "    .dataframe tbody tr th {\n",
       "        vertical-align: top;\n",
       "    }\n",
       "</style>\n",
       "<table border=\"1\" class=\"dataframe\">\n",
       "  <thead>\n",
       "    <tr style=\"text-align: right;\">\n",
       "      <th></th>\n",
       "      <th>price</th>\n",
       "      <th>longitude</th>\n",
       "      <th>latitude</th>\n",
       "      <th>accommodates</th>\n",
       "      <th>bedrooms</th>\n",
       "      <th>bathrooms</th>\n",
       "      <th>beds</th>\n",
       "      <th>room_type_Entire home/apt</th>\n",
       "      <th>room_type_Private room</th>\n",
       "      <th>room_type_Shared room</th>\n",
       "      <th>...</th>\n",
       "      <th>zipcode_94123.0</th>\n",
       "      <th>zipcode_94124.0</th>\n",
       "      <th>zipcode_94127.0</th>\n",
       "      <th>zipcode_94131.0</th>\n",
       "      <th>zipcode_94132.0</th>\n",
       "      <th>zipcode_94133.0</th>\n",
       "      <th>zipcode_94134.0</th>\n",
       "      <th>zipcode_94158.0</th>\n",
       "      <th>zipcode_94510.0</th>\n",
       "      <th>zipcode_94965.0</th>\n",
       "    </tr>\n",
       "    <tr>\n",
       "      <th>id</th>\n",
       "      <th></th>\n",
       "      <th></th>\n",
       "      <th></th>\n",
       "      <th></th>\n",
       "      <th></th>\n",
       "      <th></th>\n",
       "      <th></th>\n",
       "      <th></th>\n",
       "      <th></th>\n",
       "      <th></th>\n",
       "      <th></th>\n",
       "      <th></th>\n",
       "      <th></th>\n",
       "      <th></th>\n",
       "      <th></th>\n",
       "      <th></th>\n",
       "      <th></th>\n",
       "      <th></th>\n",
       "      <th></th>\n",
       "      <th></th>\n",
       "      <th></th>\n",
       "    </tr>\n",
       "  </thead>\n",
       "  <tbody>\n",
       "    <tr>\n",
       "      <th>958</th>\n",
       "      <td>170.0</td>\n",
       "      <td>-122.433856</td>\n",
       "      <td>37.769310</td>\n",
       "      <td>3</td>\n",
       "      <td>1.0</td>\n",
       "      <td>1.0</td>\n",
       "      <td>2.0</td>\n",
       "      <td>1</td>\n",
       "      <td>0</td>\n",
       "      <td>0</td>\n",
       "      <td>...</td>\n",
       "      <td>0</td>\n",
       "      <td>0</td>\n",
       "      <td>0</td>\n",
       "      <td>0</td>\n",
       "      <td>0</td>\n",
       "      <td>0</td>\n",
       "      <td>0</td>\n",
       "      <td>0</td>\n",
       "      <td>0</td>\n",
       "      <td>0</td>\n",
       "    </tr>\n",
       "    <tr>\n",
       "      <th>5858</th>\n",
       "      <td>235.0</td>\n",
       "      <td>-122.421018</td>\n",
       "      <td>37.745112</td>\n",
       "      <td>5</td>\n",
       "      <td>2.0</td>\n",
       "      <td>1.0</td>\n",
       "      <td>3.0</td>\n",
       "      <td>1</td>\n",
       "      <td>0</td>\n",
       "      <td>0</td>\n",
       "      <td>...</td>\n",
       "      <td>0</td>\n",
       "      <td>0</td>\n",
       "      <td>0</td>\n",
       "      <td>0</td>\n",
       "      <td>0</td>\n",
       "      <td>0</td>\n",
       "      <td>0</td>\n",
       "      <td>0</td>\n",
       "      <td>0</td>\n",
       "      <td>0</td>\n",
       "    </tr>\n",
       "    <tr>\n",
       "      <th>7918</th>\n",
       "      <td>65.0</td>\n",
       "      <td>-122.452505</td>\n",
       "      <td>37.766690</td>\n",
       "      <td>2</td>\n",
       "      <td>1.0</td>\n",
       "      <td>4.0</td>\n",
       "      <td>1.0</td>\n",
       "      <td>0</td>\n",
       "      <td>1</td>\n",
       "      <td>0</td>\n",
       "      <td>...</td>\n",
       "      <td>0</td>\n",
       "      <td>0</td>\n",
       "      <td>0</td>\n",
       "      <td>0</td>\n",
       "      <td>0</td>\n",
       "      <td>0</td>\n",
       "      <td>0</td>\n",
       "      <td>0</td>\n",
       "      <td>0</td>\n",
       "      <td>0</td>\n",
       "    </tr>\n",
       "    <tr>\n",
       "      <th>8142</th>\n",
       "      <td>65.0</td>\n",
       "      <td>-122.451828</td>\n",
       "      <td>37.764872</td>\n",
       "      <td>2</td>\n",
       "      <td>1.0</td>\n",
       "      <td>4.0</td>\n",
       "      <td>1.0</td>\n",
       "      <td>0</td>\n",
       "      <td>1</td>\n",
       "      <td>0</td>\n",
       "      <td>...</td>\n",
       "      <td>0</td>\n",
       "      <td>0</td>\n",
       "      <td>0</td>\n",
       "      <td>0</td>\n",
       "      <td>0</td>\n",
       "      <td>0</td>\n",
       "      <td>0</td>\n",
       "      <td>0</td>\n",
       "      <td>0</td>\n",
       "      <td>0</td>\n",
       "    </tr>\n",
       "    <tr>\n",
       "      <th>8339</th>\n",
       "      <td>785.0</td>\n",
       "      <td>-122.436374</td>\n",
       "      <td>37.775249</td>\n",
       "      <td>5</td>\n",
       "      <td>2.0</td>\n",
       "      <td>1.5</td>\n",
       "      <td>2.0</td>\n",
       "      <td>1</td>\n",
       "      <td>0</td>\n",
       "      <td>0</td>\n",
       "      <td>...</td>\n",
       "      <td>0</td>\n",
       "      <td>0</td>\n",
       "      <td>0</td>\n",
       "      <td>0</td>\n",
       "      <td>0</td>\n",
       "      <td>0</td>\n",
       "      <td>0</td>\n",
       "      <td>0</td>\n",
       "      <td>0</td>\n",
       "      <td>0</td>\n",
       "    </tr>\n",
       "  </tbody>\n",
       "</table>\n",
       "<p>5 rows × 77 columns</p>\n",
       "</div>"
      ],
      "text/plain": [
       "      price   longitude   latitude  accommodates  bedrooms  bathrooms  beds  \\\n",
       "id                                                                            \n",
       "958   170.0 -122.433856  37.769310             3       1.0        1.0   2.0   \n",
       "5858  235.0 -122.421018  37.745112             5       2.0        1.0   3.0   \n",
       "7918   65.0 -122.452505  37.766690             2       1.0        4.0   1.0   \n",
       "8142   65.0 -122.451828  37.764872             2       1.0        4.0   1.0   \n",
       "8339  785.0 -122.436374  37.775249             5       2.0        1.5   2.0   \n",
       "\n",
       "      room_type_Entire home/apt  room_type_Private room  \\\n",
       "id                                                        \n",
       "958                           1                       0   \n",
       "5858                          1                       0   \n",
       "7918                          0                       1   \n",
       "8142                          0                       1   \n",
       "8339                          1                       0   \n",
       "\n",
       "      room_type_Shared room       ...         zipcode_94123.0  \\\n",
       "id                                ...                           \n",
       "958                       0       ...                       0   \n",
       "5858                      0       ...                       0   \n",
       "7918                      0       ...                       0   \n",
       "8142                      0       ...                       0   \n",
       "8339                      0       ...                       0   \n",
       "\n",
       "      zipcode_94124.0  zipcode_94127.0  zipcode_94131.0  zipcode_94132.0  \\\n",
       "id                                                                         \n",
       "958                 0                0                0                0   \n",
       "5858                0                0                0                0   \n",
       "7918                0                0                0                0   \n",
       "8142                0                0                0                0   \n",
       "8339                0                0                0                0   \n",
       "\n",
       "      zipcode_94133.0  zipcode_94134.0  zipcode_94158.0  zipcode_94510.0  \\\n",
       "id                                                                         \n",
       "958                 0                0                0                0   \n",
       "5858                0                0                0                0   \n",
       "7918                0                0                0                0   \n",
       "8142                0                0                0                0   \n",
       "8339                0                0                0                0   \n",
       "\n",
       "      zipcode_94965.0  \n",
       "id                     \n",
       "958                 0  \n",
       "5858                0  \n",
       "7918                0  \n",
       "8142                0  \n",
       "8339                0  \n",
       "\n",
       "[5 rows x 77 columns]"
      ]
     },
     "execution_count": 4,
     "metadata": {},
     "output_type": "execute_result"
    }
   ],
   "source": [
    "cleaned_listings = clean_df(listings_df)\n",
    "cleaned_listings.head()"
   ]
  },
  {
   "cell_type": "markdown",
   "metadata": {},
   "source": [
    "### Model Training/Evaluation"
   ]
  },
  {
   "cell_type": "code",
   "execution_count": 5,
   "metadata": {
    "collapsed": true
   },
   "outputs": [],
   "source": [
    "def scale_X(X):\n",
    "    scaler = StandardScaler()\n",
    "    scaler.fit(X)\n",
    "    return scaler.transform(X)"
   ]
  },
  {
   "cell_type": "code",
   "execution_count": 6,
   "metadata": {
    "collapsed": true
   },
   "outputs": [],
   "source": [
    "X_df = cleaned_listings.drop(\"price\", axis=1)\n",
    "X = X_df.pipe(scale_X)\n",
    "Y = cleaned_listings[\"price\"]\n",
    "X_train, X_test, y_train, y_test = train_test_split(X, Y, test_size=0.2, random_state=8)"
   ]
  },
  {
   "cell_type": "code",
   "execution_count": 7,
   "metadata": {},
   "outputs": [
    {
     "name": "stdout",
     "output_type": "stream",
     "text": [
      "Linear: {'fit_intercept': False}, Error: 54.515625\n",
      "Lasso: {'alpha': 5, 'fit_intercept': True}, Error: 51.126983750959965\n",
      "Ridge: {'alpha': 10, 'fit_intercept': True}, Error: 54.24335278674211\n",
      "OMP: {'fit_intercept': True}, Error: 51.748695130088606\n",
      "BayesRidge: {'alpha_1': 1e-06, 'alpha_2': 1, 'fit_intercept': True, 'lambda_1': 1e-06, 'lambda_2': 1e-06}, Error: 53.03908834855133\n",
      "ElasticNet: {'alpha': 1, 'l1_ratio': 0.7}, Error: 52.760701133499936\n",
      "RForest: {'n_estimators': 20}, Error: 38.95\n",
      "GBoosting: {'loss': 'lad', 'n_estimators': 300}, Error: 32.58050016437869\n",
      "\n",
      "Best Estimator: GBoosting\n",
      "MAE: 32.58050016437869\n",
      "\n"
     ]
    },
    {
     "data": {
      "image/png": "[encoded data removed]",
      "text/plain": [
       "<matplotlib.figure.Figure at 0x11f14b438>"
      ]
     },
     "metadata": {},
     "output_type": "display_data"
    }
   ],
   "source": [
    "err_func = metrics.median_absolute_error\n",
    "\n",
    "estimators = [\n",
    "    GridSearchCV(\n",
    "        estimator = linear_model.LinearRegression(),\n",
    "        param_grid = {\n",
    "            \"fit_intercept\": [True, False]\n",
    "        },\n",
    "        scoring = make_scorer(err_func, greater_is_better=False)\n",
    "    ),\n",
    "    GridSearchCV(\n",
    "        estimator = linear_model.Lasso(),\n",
    "        param_grid = {\n",
    "            \"alpha\": [1, 5, 10, 20],\n",
    "            \"fit_intercept\": [True, False]\n",
    "        },\n",
    "        scoring = make_scorer(err_func, greater_is_better=False)\n",
    "    ),\n",
    "    GridSearchCV(\n",
    "        estimator = linear_model.Ridge(fit_intercept=True),\n",
    "        param_grid = {\n",
    "            \"alpha\": [1, 5, 10, 20],\n",
    "            \"fit_intercept\": [True, False]\n",
    "        },\n",
    "        scoring = make_scorer(err_func, greater_is_better=False)\n",
    "    ),\n",
    "    GridSearchCV(\n",
    "        estimator = linear_model.OrthogonalMatchingPursuit(),\n",
    "        param_grid = {\n",
    "            \"fit_intercept\": [True]\n",
    "        },\n",
    "        scoring = make_scorer(err_func, greater_is_better=False)\n",
    "    ),\n",
    "    GridSearchCV(\n",
    "        estimator = linear_model.BayesianRidge(),\n",
    "        param_grid = {\n",
    "            \"alpha_1\": [1.e-6, 1],\n",
    "            \"alpha_2\": [1.e-6, 1],\n",
    "            \"lambda_1\": [1.e-6, 1],\n",
    "            \"lambda_2\": [1.e-6, 1],\n",
    "            \"fit_intercept\": [True, False]\n",
    "        },\n",
    "        scoring = make_scorer(err_func, greater_is_better=False)\n",
    "    ),\n",
    "    GridSearchCV(\n",
    "        estimator = linear_model.ElasticNet(),\n",
    "        param_grid = {\n",
    "            \"alpha\": [1, 5, 10, 20],\n",
    "            \"l1_ratio\": [0.3, 0.5, 0.7]\n",
    "        },\n",
    "        scoring = make_scorer(err_func, greater_is_better=False)\n",
    "    ),\n",
    "    GridSearchCV(\n",
    "        estimator = ensemble.RandomForestRegressor(),\n",
    "        param_grid = {\n",
    "            \"n_estimators\": [5, 10, 20]\n",
    "        },\n",
    "        scoring = make_scorer(err_func, greater_is_better=False)\n",
    "    ),\n",
    "    GridSearchCV(\n",
    "        estimator = ensemble.GradientBoostingRegressor(),\n",
    "        param_grid = {\n",
    "            \"loss\": [\"lad\"],\n",
    "            \"n_estimators\": [300]\n",
    "        },\n",
    "        scoring = make_scorer(err_func, greater_is_better=False)\n",
    "    )\n",
    "]\n",
    "estimator_labels = np.array([\n",
    "    'Linear', 'Lasso', 'Ridge', 'OMP', 'BayesRidge', 'ElasticNet', 'RForest', 'GBoosting'\n",
    "])\n",
    "\n",
    "def get_estimator_name(e):\n",
    "    return estimator_labels[estimators.index(e)]\n",
    "\n",
    "estimator_errs = np.array([])\n",
    "best_model = None\n",
    "min_err = float(\"inf\")\n",
    "\n",
    "for e in estimators:\n",
    "    e.fit(X_train, y_train)\n",
    "    y_pred = e.predict(X_test)\n",
    "    curr_err = err_func(y_test, y_pred)\n",
    "    estimator_errs = np.append(estimator_errs, curr_err)\n",
    "    print(f\"\"\"{get_estimator_name(e)}: {e.best_params_}, Error: {curr_err}\"\"\")\n",
    "    if curr_err < min_err:\n",
    "        min_err = curr_err\n",
    "        best_model = e\n",
    "\n",
    "print(f\"\"\"\n",
    "Best Estimator: {get_estimator_name(best_model)}\n",
    "MAE: {min_err}\n",
    "\"\"\")        \n",
    "\n",
    "x_vals = np.arange(len(estimator_errs))\n",
    "sorted_indices = np.argsort(estimator_errs)\n",
    "plt.figure(figsize=(8,6))\n",
    "plt.title(\"Estimator Median Absolute Error\")\n",
    "plt.xlabel('Estimator')\n",
    "plt.ylabel('Median Absolute Error')\n",
    "plt.bar(x_vals, estimator_errs[sorted_indices], align='center')\n",
    "plt.xticks(x_vals, estimator_labels[sorted_indices])\n",
    "plt.savefig('../plots/Airbnb Price Predictor MAE.png', bbox_inches='tight')\n",
    "plt.show()"
   ]
  },
  {
   "cell_type": "code",
   "execution_count": 8,
   "metadata": {},
   "outputs": [
    {
     "data": {
      "image/png": "[encoded data removed]",
      "text/plain": [
       "<matplotlib.figure.Figure at 0x11f16c240>"
      ]
     },
     "metadata": {},
     "output_type": "display_data"
    }
   ],
   "source": [
    "feature_importance = best_model.best_estimator_.feature_importances_\n",
    "\n",
    "sorted_indices = np.argsort(feature_importance)\n",
    "x_sorted = np.arange(len(feature_importance))\n",
    "y_sorted = feature_importance[sorted_indices]\n",
    "c_sorted = X_df.columns[sorted_indices]\n",
    "\n",
    "x_vals = x_sorted[-10:]\n",
    "y_vals = y_sorted[-10:]\n",
    "cs = c_sorted[-10:]\n",
    "\n",
    "plt.figure(figsize=(10,8))\n",
    "plt.title('Top 10 Most Important Variables')\n",
    "plt.xlabel('Feature Importance')\n",
    "plt.yticks(x_vals, cs)\n",
    "plt.barh(x_vals, y_vals)\n",
    "plt.savefig('../plots/Airbnb Price Predictor Variable Importances.png', bbox_inches='tight')\n",
    "plt.show()"
   ]
  },
  {
   "cell_type": "code",
   "execution_count": 9,
   "metadata": {},
   "outputs": [
    {
     "data": {
      "image/png": "[encoded data removed]",
      "text/plain": [
       "<matplotlib.figure.Figure at 0x12adf1fd0>"
      ]
     },
     "metadata": {},
     "output_type": "display_data"
    }
   ],
   "source": [
    "best_model.fit(X_train, y_train)\n",
    "plt.title(f\"\"\"Best Model ({get_estimator_name(best_model)}) Residuals\"\"\")\n",
    "plt.xlabel(\"Residuals (Price)\")\n",
    "plt.ylabel(\"Count\")\n",
    "plt.xlim((-300, 300))\n",
    "plt.hist((y_test - best_model.predict(X_test)).values, bins=500)\n",
    "plt.savefig('../plots/Airbnb Price Predictor Residuals.png', bbox_inches='tight')\n",
    "plt.show()"
   ]
  },
  {
   "cell_type": "markdown",
   "metadata": {},
   "source": [
    "### Export Models"
   ]
  },
  {
   "cell_type": "code",
   "execution_count": 10,
   "metadata": {
    "collapsed": true
   },
   "outputs": [],
   "source": [
    "export_path = \"../exported_models/airbnb_price_predictor.hdf\"\n",
    "X_df.to_hdf(export_path, \"X_df\")\n",
    "Y.to_hdf(export_path, \"Y\")"
   ]
  },
  {
   "cell_type": "code",
   "execution_count": 12,
   "metadata": {},
   "outputs": [],
   "source": [
    "export_path = \"../exported_models/airbnb_price_predictor.pkl\"\n",
    "joblib.dump(best_model, export_path);"
   ]
  },
  {
   "cell_type": "code",
   "execution_count": null,
   "metadata": {
    "collapsed": true
   },
   "outputs": [],
   "source": []
  }
 ],
 "metadata": {
  "kernelspec": {
   "display_name": "Python 3",
   "language": "python",
   "name": "python3"
  },
  "language_info": {
   "codemirror_mode": {
    "name": "ipython",
    "version": 3
   },
   "file_extension": ".py",
   "mimetype": "text/x-python",
   "name": "python",
   "nbconvert_exporter": "python",
   "pygments_lexer": "ipython3",
   "version": "3.6.1"
  }
 },
 "nbformat": 4,
 "nbformat_minor": 2
}
