{
 "cells": [
  {
   "cell_type": "markdown",
   "metadata": {},
   "source": [
    "# Data-X: Project Pipeline\n",
    "Takes models trained and explored from the rest of the project and outputs insights. Small interactive demo at the bottom of the notebook.\n",
    "___"
   ]
  },
  {
   "cell_type": "markdown",
   "metadata": {},
   "source": [
    "### Dependencies\n",
    "All other ipython notebooks"
   ]
  },
  {
   "cell_type": "markdown",
   "metadata": {},
   "source": [
    "### Imports"
   ]
  },
  {
   "cell_type": "code",
   "execution_count": 1,
   "metadata": {},
   "outputs": [
    {
     "name": "stderr",
     "output_type": "stream",
     "text": [
      "/Users/erikyang/anaconda/lib/python3.6/site-packages/sklearn/ensemble/weight_boosting.py:29: DeprecationWarning: numpy.core.umath_tests is an internal NumPy module and should not be imported. It will be removed in a future NumPy release.\n",
      "  from numpy.core.umath_tests import inner1d\n"
     ]
    }
   ],
   "source": [
    "# Import Python Packages\n",
    "import re\n",
    "import warnings\n",
    "\n",
    "# Import Standard ML packages\n",
    "import numpy as np\n",
    "import pandas as pd\n",
    "\n",
    "# Import and Configure Plotting Libraries\n",
    "import matplotlib.pyplot as plt\n",
    "import seaborn as sns\n",
    "\n",
    "sns.set(style=\"whitegrid\", palette=\"muted\")\n",
    "\n",
    "plt.rcParams['figure.figsize'] = (12, 9)\n",
    "plt.rcParams['font.size'] = 16\n",
    "\n",
    "%matplotlib inline\n",
    "\n",
    "# Import Models\n",
    "from sklearn.model_selection import train_test_split\n",
    "from sklearn import linear_model\n",
    "from sklearn import ensemble\n",
    "from sklearn.preprocessing import StandardScaler"
   ]
  },
  {
   "cell_type": "markdown",
   "metadata": {},
   "source": [
    "### Import Datasets"
   ]
  },
  {
   "cell_type": "code",
   "execution_count": 2,
   "metadata": {
    "collapsed": true
   },
   "outputs": [],
   "source": [
    "import_path = \"../exported_models/airbnb_price_predictor.hdf\"\n",
    "predictor_X_df = pd.read_hdf(import_path, \"X_df\")\n",
    "predictor_Y = pd.read_hdf(import_path, \"Y\")"
   ]
  },
  {
   "cell_type": "code",
   "execution_count": 3,
   "metadata": {
    "collapsed": true
   },
   "outputs": [],
   "source": [
    "import_path = \"../exported_models/airbnb_price_trends.hdf\"\n",
    "trend_X_df = pd.read_hdf(import_path, \"X_df\")\n",
    "trend_Y = pd.read_hdf(import_path, \"Y\")"
   ]
  },
  {
   "cell_type": "code",
   "execution_count": 4,
   "metadata": {
    "collapsed": true
   },
   "outputs": [],
   "source": [
    "import_path = \"../exported_models/airbnb_rent_comparison.hdf\"\n",
    "jan17_df = pd.read_hdf(import_path, \"jan17_df\")\n",
    "may18_df = pd.read_hdf(import_path, \"may18_df\")\n",
    "aug18_df = pd.read_hdf(import_path, \"aug18_df\")\n",
    "nov18_df = pd.read_hdf(import_path, \"nov18_df\")"
   ]
  },
  {
   "cell_type": "markdown",
   "metadata": {},
   "source": [
    "### Price Predictor Setup"
   ]
  },
  {
   "cell_type": "code",
   "execution_count": 5,
   "metadata": {
    "collapsed": true
   },
   "outputs": [],
   "source": [
    "scaler_price = StandardScaler()\n",
    "scaler_price.fit(predictor_X_df)\n",
    "\n",
    "def scale_price_X(X):\n",
    "    return scaler_price.transform(X)"
   ]
  },
  {
   "cell_type": "code",
   "execution_count": 6,
   "metadata": {
    "collapsed": true
   },
   "outputs": [],
   "source": [
    "X = predictor_X_df.pipe(scale_price_X)\n",
    "Y = predictor_Y\n",
    "X_train, X_test, y_train, y_test = train_test_split(X, Y, test_size=0.2, random_state=8)"
   ]
  },
  {
   "cell_type": "code",
   "execution_count": 7,
   "metadata": {
    "collapsed": true
   },
   "outputs": [],
   "source": [
    "price_model = ensemble.GradientBoostingRegressor(loss=\"lad\", n_estimators=300)\n",
    "price_model.fit(X_train, y_train);"
   ]
  },
  {
   "cell_type": "code",
   "execution_count": 8,
   "metadata": {
    "collapsed": true
   },
   "outputs": [],
   "source": [
    "def cols_start_with(df, s):\n",
    "    cols = df.columns\n",
    "    cols = cols[cols.str.startswith(s)].values\n",
    "    return list(cols)\n",
    "\n",
    "def col_suffixes(df, s):\n",
    "    cols = cols_start_with(df, s)\n",
    "    cols = [re.sub(f\"\"\"{s}\"\"\", \"\", c) for c in cols]\n",
    "    return cols\n",
    "\n",
    "def val_one_hot_transform(df, val, col_prefix):\n",
    "    cols = col_suffixes(df, col_prefix)\n",
    "    result = pd.DataFrame()\n",
    "    for c in cols:\n",
    "        c_name = col_prefix + c\n",
    "        if c == val:\n",
    "            result[c_name] = [1]\n",
    "        else:\n",
    "            result[c_name] = [0]\n",
    "    return result"
   ]
  },
  {
   "cell_type": "code",
   "execution_count": 9,
   "metadata": {
    "collapsed": true
   },
   "outputs": [],
   "source": [
    "def predict_price_input_to_X_df(\n",
    "    longitude,\n",
    "    latitude,\n",
    "    accomodates,\n",
    "    bedrooms,\n",
    "    bathrooms,\n",
    "    beds,\n",
    "    room_type,\n",
    "    neighbourhood_cleansed,\n",
    "    zipcode\n",
    "):\n",
    "    X_df = pd.DataFrame()\n",
    "    X_df[\"longitude\"] = [longitude]\n",
    "    X_df[\"latitude\"] = [latitude]\n",
    "    X_df[\"accomodates\"] = [accomodates]\n",
    "    X_df[\"bedrooms\"] = [bedrooms]\n",
    "    X_df[\"bathrooms\"] = [bathrooms]\n",
    "    X_df[\"beds\"] = [beds]\n",
    "    \n",
    "    X_df = pd.concat((X_df, val_one_hot_transform(predictor_X_df, room_type, \"room_type_\")), axis=1)\n",
    "    X_df = pd.concat((X_df, val_one_hot_transform(predictor_X_df, neighbourhood_cleansed, \"neighbourhood_cleansed_\")), axis=1)\n",
    "    X_df = pd.concat((X_df, val_one_hot_transform(predictor_X_df, zipcode, \"zipcode_\")), axis=1)\n",
    "    \n",
    "    return X_df\n",
    "\n",
    "def predict_price(\n",
    "    longitude,\n",
    "    latitude,\n",
    "    accomodates,\n",
    "    bedrooms,\n",
    "    bathrooms,\n",
    "    beds,\n",
    "    room_type,\n",
    "    neighbourhood_cleansed,\n",
    "    zipcode\n",
    "):\n",
    "    X_df = predict_price_input_to_X_df(\n",
    "        longitude,\n",
    "        latitude,\n",
    "        accomodates,\n",
    "        bedrooms,\n",
    "        bathrooms,\n",
    "        beds,\n",
    "        room_type,\n",
    "        neighbourhood_cleansed,\n",
    "        zipcode\n",
    "    )\n",
    "    X = X_df.pipe(scale_price_X)\n",
    "    return price_model.predict(X)[0]"
   ]
  },
  {
   "cell_type": "code",
   "execution_count": 10,
   "metadata": {
    "scrolled": true
   },
   "outputs": [
    {
     "data": {
      "text/plain": [
       "169.030663079374"
      ]
     },
     "execution_count": 10,
     "metadata": {},
     "output_type": "execute_result"
    }
   ],
   "source": [
    "test_X = np.concatenate((predictor_X_df.iloc[0, :6].values,[\"Entire home/apt\", \"Western Addition\", \"94117.0\"]))\n",
    "\n",
    "predict_price(*test_X)"
   ]
  },
  {
   "cell_type": "markdown",
   "metadata": {},
   "source": [
    "### Price Trend Setup"
   ]
  },
  {
   "cell_type": "code",
   "execution_count": 11,
   "metadata": {
    "collapsed": true
   },
   "outputs": [],
   "source": [
    "scaler_trend = StandardScaler()\n",
    "scaler_trend.fit(trend_X_df)\n",
    "\n",
    "def scale_trend_X(X):\n",
    "    return scaler_trend.transform(X)"
   ]
  },
  {
   "cell_type": "code",
   "execution_count": 12,
   "metadata": {
    "collapsed": true
   },
   "outputs": [],
   "source": [
    "X = trend_X_df.pipe(scale_trend_X)\n",
    "Y = trend_Y\n",
    "X_train, X_test, y_train, y_test = train_test_split(X, Y, test_size=0.2, random_state=8)"
   ]
  },
  {
   "cell_type": "code",
   "execution_count": 13,
   "metadata": {
    "collapsed": true
   },
   "outputs": [],
   "source": [
    "trend_model = linear_model.Lasso(alpha=1, fit_intercept=True)\n",
    "trend_model.fit(X_train, y_train);"
   ]
  },
  {
   "cell_type": "code",
   "execution_count": 14,
   "metadata": {
    "collapsed": true
   },
   "outputs": [],
   "source": [
    "def predict_trend_input_to_X_df(\n",
    "    price_past,\n",
    "    longitude,\n",
    "    latitude,\n",
    "    accomodates,\n",
    "    bedrooms,\n",
    "    bathrooms,\n",
    "    beds,\n",
    "    room_type,\n",
    "    neighbourhood_cleansed,\n",
    "    zipcode\n",
    "):\n",
    "    X_df = pd.DataFrame()\n",
    "    X_df[\"price_past\"] = [price_past]\n",
    "    X_df[\"longitude\"] = [longitude]\n",
    "    X_df[\"latitude\"] = [latitude]\n",
    "    X_df[\"accomodates\"] = [accomodates]\n",
    "    X_df[\"bedrooms\"] = [bedrooms]\n",
    "    X_df[\"bathrooms\"] = [bathrooms]\n",
    "    X_df[\"beds\"] = [beds]\n",
    "    \n",
    "    X_df = pd.concat((X_df, val_one_hot_transform(trend_X_df, room_type, \"room_type_\")), axis=1)\n",
    "    X_df = pd.concat((X_df, val_one_hot_transform(trend_X_df, neighbourhood_cleansed, \"neighbourhood_cleansed_\")), axis=1)\n",
    "    X_df = pd.concat((X_df, val_one_hot_transform(trend_X_df, zipcode, \"zipcode_\")), axis=1)\n",
    "    \n",
    "    return X_df\n",
    "\n",
    "def predict_trend(\n",
    "    price_past,\n",
    "    longitude,\n",
    "    latitude,\n",
    "    accomodates,\n",
    "    bedrooms,\n",
    "    bathrooms,\n",
    "    beds,\n",
    "    room_type,\n",
    "    neighbourhood_cleansed,\n",
    "    zipcode\n",
    "):\n",
    "    X_df = predict_trend_input_to_X_df(\n",
    "        price_past,\n",
    "        longitude,\n",
    "        latitude,\n",
    "        accomodates,\n",
    "        bedrooms,\n",
    "        bathrooms,\n",
    "        beds,\n",
    "        room_type,\n",
    "        neighbourhood_cleansed,\n",
    "        zipcode\n",
    "    )\n",
    "    X = X_df.pipe(scale_trend_X)\n",
    "    return trend_model.predict(X)[0]"
   ]
  },
  {
   "cell_type": "code",
   "execution_count": 15,
   "metadata": {},
   "outputs": [
    {
     "data": {
      "text/plain": [
       "0.03527405810977451"
      ]
     },
     "execution_count": 15,
     "metadata": {},
     "output_type": "execute_result"
    }
   ],
   "source": [
    "test_X = np.concatenate((trend_X_df.iloc[500, :7].values,[\"Private room\", \"Seacliff\", \"94121.0\"]))\n",
    "\n",
    "predict_trend(*test_X)"
   ]
  },
  {
   "cell_type": "code",
   "execution_count": 16,
   "metadata": {},
   "outputs": [
    {
     "data": {
      "text/plain": [
       "array([0.03527406, 0.03527406, 0.03527406, 0.03527406, 0.03527406,\n",
       "       0.03527406, 0.03527406, 0.03527406, 0.03527406, 0.03527406,\n",
       "       0.03527406, 0.03527406, 0.03527406, 0.03527406, 0.03527406,\n",
       "       0.03527406, 0.03527406, 0.03527406, 0.03527406, 0.03527406,\n",
       "       0.03527406, 0.03527406, 0.03527406, 0.03527406, 0.03527406,\n",
       "       0.03527406, 0.03527406, 0.03527406, 0.03527406, 0.03527406,\n",
       "       0.03527406, 0.03527406, 0.03527406, 0.03527406, 0.03527406,\n",
       "       0.03527406, 0.03527406, 0.03527406, 0.03527406, 0.03527406,\n",
       "       0.03527406, 0.03527406, 0.03527406, 0.03527406, 0.03527406,\n",
       "       0.03527406, 0.03527406, 0.03527406, 0.03527406, 0.03527406,\n",
       "       0.03527406, 0.03527406, 0.03527406, 0.03527406, 0.03527406,\n",
       "       0.03527406, 0.03527406, 0.03527406, 0.03527406, 0.03527406,\n",
       "       0.03527406, 0.03527406, 0.03527406, 0.03527406, 0.03527406,\n",
       "       0.03527406, 0.03527406, 0.03527406, 0.03527406, 0.03527406,\n",
       "       0.03527406, 0.03527406, 0.03527406, 0.03527406, 0.03527406,\n",
       "       0.03527406, 0.03527406, 0.03527406, 0.03527406, 0.03527406,\n",
       "       0.03527406, 0.03527406, 0.03527406, 0.03527406, 0.03527406,\n",
       "       0.03527406, 0.03527406, 0.03527406, 0.03527406, 0.03527406,\n",
       "       0.03527406, 0.03527406, 0.03527406, 0.03527406, 0.03527406,\n",
       "       0.03527406, 0.03527406, 0.03527406, 0.03527406, 0.03527406,\n",
       "       0.03527406, 0.03527406, 0.03527406, 0.03527406, 0.03527406,\n",
       "       0.03527406, 0.03527406, 0.03527406, 0.03527406, 0.03527406,\n",
       "       0.03527406, 0.03527406, 0.03527406, 0.03527406, 0.03527406,\n",
       "       0.03527406, 0.03527406, 0.03527406, 0.03527406, 0.03527406,\n",
       "       0.03527406, 0.03527406, 0.03527406, 0.03527406, 0.03527406,\n",
       "       0.03527406, 0.03527406, 0.03527406, 0.03527406, 0.03527406,\n",
       "       0.03527406, 0.03527406, 0.03527406, 0.03527406, 0.03527406,\n",
       "       0.03527406, 0.03527406, 0.03527406, 0.03527406, 0.03527406,\n",
       "       0.03527406, 0.03527406, 0.03527406, 0.03527406, 0.03527406,\n",
       "       0.03527406, 0.03527406, 0.03527406, 0.03527406, 0.03527406,\n",
       "       0.03527406, 0.03527406, 0.03527406, 0.03527406, 0.03527406,\n",
       "       0.03527406, 0.03527406, 0.03527406, 0.03527406, 0.03527406,\n",
       "       0.03527406, 0.03527406, 0.03527406, 0.03527406, 0.03527406,\n",
       "       0.03527406, 0.03527406, 0.03527406, 0.03527406, 0.03527406,\n",
       "       0.03527406, 0.03527406, 0.03527406, 0.03527406, 0.03527406,\n",
       "       0.03527406, 0.03527406, 0.03527406, 0.03527406, 0.03527406,\n",
       "       0.03527406, 0.03527406, 0.03527406, 0.03527406, 0.03527406,\n",
       "       0.03527406, 0.03527406, 0.03527406, 0.03527406, 0.03527406,\n",
       "       0.03527406, 0.03527406, 0.03527406, 0.03527406, 0.03527406,\n",
       "       0.03527406, 0.03527406, 0.03527406, 0.03527406, 0.03527406,\n",
       "       0.03527406, 0.03527406, 0.03527406, 0.03527406, 0.03527406,\n",
       "       0.03527406, 0.03527406, 0.03527406, 0.03527406, 0.03527406,\n",
       "       0.03527406, 0.03527406, 0.03527406, 0.03527406, 0.03527406,\n",
       "       0.03527406, 0.03527406, 0.03527406, 0.03527406, 0.03527406,\n",
       "       0.03527406, 0.03527406, 0.03527406, 0.03527406, 0.03527406,\n",
       "       0.03527406, 0.03527406, 0.03527406, 0.03527406, 0.03527406,\n",
       "       0.03527406, 0.03527406, 0.03527406, 0.03527406, 0.03527406,\n",
       "       0.03527406, 0.03527406, 0.03527406, 0.03527406, 0.03527406,\n",
       "       0.03527406, 0.03527406, 0.03527406, 0.03527406, 0.03527406,\n",
       "       0.03527406, 0.03527406, 0.03527406, 0.03527406, 0.03527406,\n",
       "       0.03527406, 0.03527406, 0.03527406, 0.03527406, 0.03527406,\n",
       "       0.03527406, 0.03527406, 0.03527406, 0.03527406, 0.03527406,\n",
       "       0.03527406, 0.03527406, 0.03527406, 0.03527406, 0.03527406,\n",
       "       0.03527406, 0.03527406, 0.03527406, 0.03527406, 0.03527406,\n",
       "       0.03527406, 0.03527406, 0.03527406, 0.03527406, 0.03527406,\n",
       "       0.03527406, 0.03527406, 0.03527406, 0.03527406, 0.03527406,\n",
       "       0.03527406, 0.03527406, 0.03527406, 0.03527406, 0.03527406,\n",
       "       0.03527406, 0.03527406, 0.03527406, 0.03527406, 0.03527406,\n",
       "       0.03527406, 0.03527406, 0.03527406, 0.03527406, 0.03527406,\n",
       "       0.03527406, 0.03527406, 0.03527406, 0.03527406, 0.03527406,\n",
       "       0.03527406, 0.03527406, 0.03527406, 0.03527406, 0.03527406,\n",
       "       0.03527406, 0.03527406, 0.03527406, 0.03527406, 0.03527406,\n",
       "       0.03527406, 0.03527406, 0.03527406, 0.03527406, 0.03527406,\n",
       "       0.03527406, 0.03527406, 0.03527406, 0.03527406, 0.03527406,\n",
       "       0.03527406, 0.03527406, 0.03527406, 0.03527406, 0.03527406,\n",
       "       0.03527406, 0.03527406, 0.03527406, 0.03527406, 0.03527406,\n",
       "       0.03527406, 0.03527406, 0.03527406, 0.03527406, 0.03527406,\n",
       "       0.03527406, 0.03527406, 0.03527406, 0.03527406, 0.03527406,\n",
       "       0.03527406, 0.03527406, 0.03527406, 0.03527406, 0.03527406,\n",
       "       0.03527406, 0.03527406, 0.03527406, 0.03527406, 0.03527406,\n",
       "       0.03527406, 0.03527406, 0.03527406, 0.03527406, 0.03527406,\n",
       "       0.03527406, 0.03527406, 0.03527406, 0.03527406, 0.03527406,\n",
       "       0.03527406, 0.03527406, 0.03527406, 0.03527406, 0.03527406,\n",
       "       0.03527406, 0.03527406, 0.03527406, 0.03527406, 0.03527406,\n",
       "       0.03527406, 0.03527406, 0.03527406, 0.03527406, 0.03527406,\n",
       "       0.03527406, 0.03527406, 0.03527406, 0.03527406, 0.03527406,\n",
       "       0.03527406, 0.03527406, 0.03527406, 0.03527406, 0.03527406,\n",
       "       0.03527406, 0.03527406, 0.03527406, 0.03527406, 0.03527406,\n",
       "       0.03527406, 0.03527406, 0.03527406, 0.03527406, 0.03527406,\n",
       "       0.03527406, 0.03527406, 0.03527406, 0.03527406, 0.03527406,\n",
       "       0.03527406, 0.03527406, 0.03527406, 0.03527406, 0.03527406,\n",
       "       0.03527406, 0.03527406, 0.03527406, 0.03527406, 0.03527406,\n",
       "       0.03527406, 0.03527406, 0.03527406, 0.03527406, 0.03527406,\n",
       "       0.03527406, 0.03527406, 0.03527406, 0.03527406, 0.03527406,\n",
       "       0.03527406, 0.03527406, 0.03527406, 0.03527406, 0.03527406,\n",
       "       0.03527406, 0.03527406, 0.03527406, 0.03527406, 0.03527406,\n",
       "       0.03527406, 0.03527406, 0.03527406, 0.03527406, 0.03527406,\n",
       "       0.03527406, 0.03527406, 0.03527406, 0.03527406, 0.03527406,\n",
       "       0.03527406, 0.03527406, 0.03527406, 0.03527406, 0.03527406,\n",
       "       0.03527406, 0.03527406, 0.03527406, 0.03527406, 0.03527406,\n",
       "       0.03527406, 0.03527406, 0.03527406, 0.03527406, 0.03527406,\n",
       "       0.03527406, 0.03527406, 0.03527406, 0.03527406, 0.03527406,\n",
       "       0.03527406, 0.03527406, 0.03527406, 0.03527406, 0.03527406,\n",
       "       0.03527406, 0.03527406, 0.03527406, 0.03527406, 0.03527406,\n",
       "       0.03527406, 0.03527406, 0.03527406, 0.03527406, 0.03527406,\n",
       "       0.03527406, 0.03527406, 0.03527406, 0.03527406, 0.03527406,\n",
       "       0.03527406, 0.03527406, 0.03527406, 0.03527406, 0.03527406,\n",
       "       0.03527406, 0.03527406, 0.03527406, 0.03527406, 0.03527406,\n",
       "       0.03527406, 0.03527406, 0.03527406, 0.03527406, 0.03527406,\n",
       "       0.03527406, 0.03527406, 0.03527406, 0.03527406, 0.03527406,\n",
       "       0.03527406])"
      ]
     },
     "execution_count": 16,
     "metadata": {},
     "output_type": "execute_result"
    }
   ],
   "source": [
    "trend_model.predict(X_test)"
   ]
  },
  {
   "cell_type": "markdown",
   "metadata": {},
   "source": [
    "### Rent Comparison Setup"
   ]
  },
  {
   "cell_type": "code",
   "execution_count": 17,
   "metadata": {
    "collapsed": true
   },
   "outputs": [],
   "source": [
    "def nbr_in_rent(c):\n",
    "    return nov18_df.index.isin([c]).any()"
   ]
  },
  {
   "cell_type": "code",
   "execution_count": 18,
   "metadata": {
    "collapsed": true
   },
   "outputs": [],
   "source": [
    "def visualize_rent_history(nbr, num_bed):\n",
    "    if not nbr_in_rent(nbr):\n",
    "        warnings.warn(\"Rent prices unavailable for this neighbourhood.\")\n",
    "        return None\n",
    "    \n",
    "    beds_map = {\n",
    "        0: \"Studio\",\n",
    "        1: \"1 Bed\",\n",
    "        2: \"2 Beds\",\n",
    "        3: \"3 Beds\"\n",
    "    }\n",
    "    bed_col = beds_map[num_bed]\n",
    "    \n",
    "    dates = [1, 12+5, 12+8, 12+11]\n",
    "    rent_prices = [\n",
    "        jan17_df.loc[nbr, bed_col], \n",
    "        may18_df.loc[nbr, bed_col],\n",
    "        aug18_df.loc[nbr, bed_col],\n",
    "        nov18_df.loc[nbr, bed_col]\n",
    "    ]\n",
    "    \n",
    "    plt.title(f\"\"\"Historical Data for {bed_col} Apartment in {nbr}\"\"\")\n",
    "    plt.xticks(dates, [\"Jan '17\", \"May '18\", \"Aug '18\", \"Nov '18\"])\n",
    "    plt.plot(dates, rent_prices, 'o-')\n",
    "    plt.savefig('../plots/Airbnb Rent Comparison Sample Historical Rent.png', bbox_inches='tight')\n",
    "    plt.show()"
   ]
  },
  {
   "cell_type": "code",
   "execution_count": 19,
   "metadata": {
    "collapsed": true
   },
   "outputs": [],
   "source": [
    "def get_rent_price(nbr, num_bed):\n",
    "    if not nbr_in_rent(nbr):\n",
    "        warnings.warn(\"Rent prices unavailable for this neighbourhood.\")\n",
    "        return None\n",
    "    \n",
    "    beds_map = {\n",
    "        0: \"Studio\",\n",
    "        1: \"1 Bed\",\n",
    "        2: \"2 Beds\",\n",
    "        3: \"3 Beds\"\n",
    "    }\n",
    "    bed_col = beds_map[num_bed]\n",
    "    return nov18_df.loc[nbr, bed_col]\n",
    "\n",
    "def price_comparison_stats(nbr, num_beds, airbnb_price):\n",
    "    if not nbr_in_rent(nbr):\n",
    "        warnings.warn(\"Rent prices unavailable for this neighbourhood.\")\n",
    "        return None\n",
    "    \n",
    "    rent_price = get_rent_price(nbr, num_beds)\n",
    "    breakeven = rent_price/airbnb_price\n",
    "    \n",
    "    return {\n",
    "        \"airbnb_price\": airbnb_price,\n",
    "        \"nbr\": nbr,\n",
    "        \"num_bed\": num_beds,\n",
    "        \"rent_price\": rent_price,\n",
    "        \"breakeven_days\": breakeven,\n",
    "        \"breakeven_ratio\": breakeven/30\n",
    "    }\n",
    "\n",
    "def visualize_stats(stats):\n",
    "    if stats == None or len(stats) != 6:\n",
    "        warnings.warn(\"Stats dont have right properties\")\n",
    "        return None\n",
    "    \n",
    "    plt.figure(figsize=(16,4))\n",
    "    plt.suptitle(\"Airbnb vs. Rent Prices\")\n",
    "    \n",
    "    plt.subplot(1, 2, 1)\n",
    "    plt.title(\"Price Comparison\")\n",
    "    plt.ylabel(\"Daily Price ($)\")\n",
    "    plt.xticks(np.arange(2), [\"Average Rent\", \"Airbnb\"])\n",
    "    prices = [stats[\"rent_price\"]/30, stats[\"airbnb_price\"]]\n",
    "    plt.bar(np.arange(2), prices)\n",
    "    \n",
    "    plt.subplot(1, 2, 2)\n",
    "    plt.title(\"Breakeven Point\")\n",
    "    days = np.arange(31)\n",
    "    price_day = days * stats[\"airbnb_price\"]\n",
    "    plt.xlabel(\"Days Airbnb is Rented\")\n",
    "    plt.ylabel(\"Cumulative Price\")\n",
    "    plt.axvline(x=stats[\"breakeven_days\"], color=\"r\")\n",
    "    plt.text(\n",
    "        stats[\"breakeven_days\"]-1.05,\n",
    "        25*stats[\"airbnb_price\"],\n",
    "        f\"\"\"Breakeven = {np.round(stats[\"breakeven_days\"], 1)} days\"\"\",\n",
    "        rotation=90,\n",
    "        fontsize=14\n",
    "    )\n",
    "    plt.plot(days, price_day)\n",
    "    plt.savefig('../plots/Airbnb Rent Comparison Sample.png', bbox_inches='tight')\n",
    "    plt.show()"
   ]
  },
  {
   "cell_type": "markdown",
   "metadata": {},
   "source": [
    "### Interactive Demo"
   ]
  },
  {
   "cell_type": "code",
   "execution_count": 20,
   "metadata": {
    "collapsed": true
   },
   "outputs": [],
   "source": [
    "def demo():\n",
    "    longitude = input(\"Input Longitude of Property: \")\n",
    "    latitude = input(\"Input Latitude of Property: \")\n",
    "    accomodates = input(\"Input # Unit Can Accommodate: \")\n",
    "    bedrooms = input(\"Input # Bedrooms: \")\n",
    "    bathrooms = input(\"Input # Bathrooms: \")\n",
    "    beds = input(\"Input # Beds: \")\n",
    "    \n",
    "    room_type = input(f\"\"\"\n",
    "Input 1, 2, or 3:\n",
    "1) Entire home/apt\n",
    "2) Private room\n",
    "3) Shared room\n",
    "    \"\"\")\n",
    "    if room_type not in [\"1\",\"2\",\"3\"]:\n",
    "        print(\"Invalid input\")\n",
    "        return\n",
    "    room_map = {\n",
    "        \"1\": \"Entire home/apt\",\n",
    "        \"2\": \"Private room\",\n",
    "        \"3\": \"Shared room\"\n",
    "    }\n",
    "    room_type = room_map[room_type]\n",
    "    \n",
    "    neighbourhood_cleansed = input(\"Input Neighborhood: \")\n",
    "    if neighbourhood_cleansed not in col_suffixes(predictor_X_df, \"neighbourhood_cleansed_\"):\n",
    "        print(\"Invalid input\")\n",
    "        return\n",
    "    \n",
    "    zipcode = input(\"Input zipcode: \") + \".0\"\n",
    "    if zipcode not in col_suffixes(predictor_X_df, \"zipcode_\"):\n",
    "        print(\"Invalid input\")\n",
    "        return\n",
    "    \n",
    "    longitude = float(longitude)\n",
    "    latitude = float(latitude)\n",
    "    accomodates = float(accomodates)\n",
    "    bedrooms = float(bedrooms)\n",
    "    bathrooms = float(bathrooms)\n",
    "    beds = float(beds)\n",
    "    \n",
    "    predicted_price = predict_price(\n",
    "        longitude,\n",
    "        latitude,\n",
    "        accomodates,\n",
    "        bedrooms,\n",
    "        bathrooms,\n",
    "        beds,\n",
    "        room_type,\n",
    "        neighbourhood_cleansed,\n",
    "        zipcode,\n",
    "    )\n",
    "    \n",
    "    predicted_trend = predict_trend(\n",
    "        predicted_price,\n",
    "        longitude,\n",
    "        latitude,\n",
    "        accomodates,\n",
    "        bedrooms,\n",
    "        bathrooms,\n",
    "        beds,\n",
    "        room_type,\n",
    "        neighbourhood_cleansed,\n",
    "        zipcode,\n",
    "    )\n",
    "    \n",
    "    print(f\"\"\"\n",
    "    =======RESULTS=======\n",
    "    Predicted price on Airbnb: ${np.round(predicted_price, 2)}\n",
    "    Predicted price percentage change on Airbnb in a year: {np.round(predicted_trend * 100, 2)}%\n",
    "    =====================\n",
    "    \"\"\")\n",
    "    \n",
    "    return predicted_price, predicted_trend"
   ]
  },
  {
   "cell_type": "code",
   "execution_count": 21,
   "metadata": {},
   "outputs": [
    {
     "data": {
      "text/plain": [
       "array(['180.0', '-122.4349448117207', '37.74703281054805', '2.0', '1.0',\n",
       "       '1.0', '1.0', 'Private room', 'Noe Valley', '94131.0'],\n",
       "      dtype='<U32')"
      ]
     },
     "execution_count": 21,
     "metadata": {},
     "output_type": "execute_result"
    }
   ],
   "source": [
    "sample_input = np.concatenate((trend_X_df.iloc[500, :7].values,[\"Private room\", \"Noe Valley\", \"94131.0\"]))\n",
    "sample_input"
   ]
  },
  {
   "cell_type": "code",
   "execution_count": 22,
   "metadata": {},
   "outputs": [
    {
     "name": "stdout",
     "output_type": "stream",
     "text": [
      "Input Longitude of Property: -122.43\n",
      "Input Latitude of Property: 37.747\n",
      "Input # Unit Can Accommodate: 2\n",
      "Input # Bedrooms: 1\n",
      "Input # Bathrooms: 1\n",
      "Input # Beds: 1\n",
      "\n",
      "Input 1, 2, or 3:\n",
      "1) Entire home/apt\n",
      "2) Private room\n",
      "3) Shared room\n",
      "    2\n",
      "Input Neighborhood: Noe Valley\n",
      "Input zipcode: 94131\n",
      "\n",
      "    =======RESULTS=======\n",
      "    Predicted price on Airbnb: $118.92\n",
      "    Predicted price percentage change on Airbnb in a year: 3.53%\n",
      "    =====================\n",
      "    \n"
     ]
    }
   ],
   "source": [
    "predicted_price, predicted_trend = demo()"
   ]
  },
  {
   "cell_type": "code",
   "execution_count": 23,
   "metadata": {},
   "outputs": [
    {
     "data": {
      "image/png": "[encoded data removed]",
      "text/plain": [
       "<matplotlib.figure.Figure at 0x1224eeeb8>"
      ]
     },
     "metadata": {},
     "output_type": "display_data"
    }
   ],
   "source": [
    "nbr = \"Noe Valley\"\n",
    "num_beds = 1\n",
    "\n",
    "visualize_rent_history(nbr, num_beds)"
   ]
  },
  {
   "cell_type": "code",
   "execution_count": 24,
   "metadata": {},
   "outputs": [
    {
     "data": {
      "image/png": "[encoded data removed]",
      "text/plain": [
       "<matplotlib.figure.Figure at 0x12521c7f0>"
      ]
     },
     "metadata": {},
     "output_type": "display_data"
    }
   ],
   "source": [
    "visualize_stats(price_comparison_stats(nbr, num_beds, predicted_price))"
   ]
  },
  {
   "cell_type": "code",
   "execution_count": null,
   "metadata": {
    "collapsed": true
   },
   "outputs": [],
   "source": []
  }
 ],
 "metadata": {
  "kernelspec": {
   "display_name": "Python 3",
   "language": "python",
   "name": "python3"
  },
  "language_info": {
   "codemirror_mode": {
    "name": "ipython",
    "version": 3
   },
   "file_extension": ".py",
   "mimetype": "text/x-python",
   "name": "python",
   "nbconvert_exporter": "python",
   "pygments_lexer": "ipython3",
   "version": "3.6.1"
  }
 },
 "nbformat": 4,
 "nbformat_minor": 2
}
